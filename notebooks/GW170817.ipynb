{
 "cells": [
  {
   "cell_type": "code",
   "execution_count": 2,
   "metadata": {},
   "outputs": [
    {
     "name": "stdout",
     "output_type": "stream",
     "text": [
      "1.10.1\n"
     ]
    }
   ],
   "source": [
    "%matplotlib inline\n",
    "import gwcosmo\n",
    "import numpy as np\n",
    "import pkg_resources\n",
    "import pickle\n",
    "import os\n",
    "import matplotlib.pyplot as plt\n",
    "import scipy\n",
    "print(scipy.__version__)\n",
    "plt.rcParams['mathtext.fontset'] = 'stix'  # Options: 'stix', 'cm', 'dejavusans', etc.\n",
    "plt.rcParams['mathtext.rm'] = 'Times New Roman'  # Roman font for math\n",
    "plt.rcParams['mathtext.it'] = 'Times New Roman:italic'  # Italic font for math\n",
    "plt.rcParams['mathtext.bf'] = 'Times New Roman:bold'  # Bold font for math\n",
    "plt.rcParams['figure.dpi'] = 100 # 200 e.g. is really fine, but slower"
   ]
  },
  {
   "cell_type": "code",
   "execution_count": null,
   "metadata": {},
   "outputs": [
    {
     "name": "stderr",
     "output_type": "stream",
     "text": [
      "  6% |####                                                                    |\r"
     ]
    },
    {
     "name": "stdout",
     "output_type": "stream",
     "text": [
      "Powerlaw mass distribution with alpha = 0.0\n",
      "Calculating lookup table for snr as a function of max frequency.\n"
     ]
    },
    {
     "name": "stderr",
     "output_type": "stream",
     "text": [
      "100% |########################################################################|\n",
      "  6% |####                                                                    |\r"
     ]
    },
    {
     "name": "stdout",
     "output_type": "stream",
     "text": [
      "Calculating lookup table for snr as a function of max frequency.\n"
     ]
    },
    {
     "name": "stderr",
     "output_type": "stream",
     "text": [
      "100% |########################################################################|\n",
      "  0% |                                                                        |\r"
     ]
    },
    {
     "name": "stdout",
     "output_type": "stream",
     "text": [
      "Calculating pdet with O2 sensitivity and BNS mass distribution.\n"
     ]
    },
    {
     "name": "stderr",
     "output_type": "stream",
     "text": [
      "100% |########################################################################|\n",
      "100% |########################################################################|\n",
      "100% |########################################################################|\n",
      "100% |########################################################################|\n",
      "100% |########################################################################|\n",
      "100% |########################################################################|\n",
      "100% |########################################################################|\n",
      "100% |########################################################################|\n",
      "100% |########################################################################|\n",
      "100% |########################################################################|\n",
      "100% |########################################################################|\n",
      "100% |########################################################################|\n",
      "100% |########################################################################|\n",
      "100% |########################################################################|\n",
      "100% |########################################################################|\n",
      "100% |########################################################################|\n",
      "100% |########################################################################|\n",
      "100% |########################################################################|\n",
      "100% |########################################################################|\n",
      "100% |########################################################################|\n",
      "100% |########################################################################|\n",
      "100% |########################################################################|\n",
      "100% |########################################################################|\n",
      "100% |########################################################################|\n",
      "100% |########################################################################|\n",
      "100% |########################################################################|\n",
      "100% |########################################################################|\n",
      " 45% |################################                                        |\r"
     ]
    }
   ],
   "source": [
    "# Make pdet for GW170817\n",
    "asd = 'O2' # ASD of the detectors\n",
    "mmin = 0.5 # Minimum mass in solar masses\n",
    "mmax = 4 # Maximum mass in solar masses\n",
    "mass_distribution = 'BNS' # Masses distribution, see mass_distribution class in prior module\n",
    "detectors = ['H1', 'L1']\n",
    "# alpha = 2 # Powerlaw slope for BBHs mass distribution\n",
    "Nsamps = 1000 #How many injection per H0,z bin\n",
    "network_snr_threshold = 12 # SNR threshold for detection \n",
    "kind = 'full_waveform' # Kind of injections, use full waveforms with IMRPhenomPv2\n",
    "\n",
    "H0 = np.linspace(40, 100, 100) # H0 at which you want to calculate\n",
    "\n",
    "pdet = gwcosmo.detection_probability.DetectionProbability(mass_distribution=mass_distribution,\n",
    "asd=asd, \n",
    "full_waveform = kind, H0 = H0, network_snr_threshold = network_snr_threshold,\n",
    "detectors = detectors,\n",
    "Nsamps = Nsamps)"
   ]
  }
 ],
 "metadata": {
  "kernelspec": {
   "display_name": "gdrgwcosmo",
   "language": "python",
   "name": "python3"
  },
  "language_info": {
   "codemirror_mode": {
    "name": "ipython",
    "version": 3
   },
   "file_extension": ".py",
   "mimetype": "text/x-python",
   "name": "python",
   "nbconvert_exporter": "python",
   "pygments_lexer": "ipython3",
   "version": "3.10.15"
  }
 },
 "nbformat": 4,
 "nbformat_minor": 2
}
