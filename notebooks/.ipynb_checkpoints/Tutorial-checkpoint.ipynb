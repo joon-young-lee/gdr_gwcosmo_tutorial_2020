{
 "cells": [
  {
   "cell_type": "markdown",
   "metadata": {},
   "source": [
    "# A Brief explaination of GWcosmo\n",
    "\n",
    "GWcosmo is a package used to estimate the Hubble constant with gravitational-wave observations. GWcosmo can estimate the Hubble constant with three settings:\n",
    "\n",
    "* With an indentified galaxy for the GW identified\n",
    "\n",
    "* With a galaxy catalogue (we do not know the hosting galaxy)\n",
    "\n",
    "* With an empty galaxy catalogue, just by using the masses of the GW event, see later\n",
    "\n",
    "In this notebook we will present a tutorial on how to use GWcosmo to measure the Hubble constant from GW170817 with its associated EM counterpart.  I will show you how to handle the ingredients which are necessary for the analysis.\n",
    "For an in depth description of the statistical method behind GWcosmo check this [paper](https://arxiv.org/abs/1908.06050).\n",
    "\n",
    "## The method behind GWcosmo\n",
    "\n",
    "We use the Bayes theorem to write down the posterior on the Hubble consant.\n",
    "\n",
    "$$p(H_0|x)=\\frac{p(x|H_0)p(H_0)}{\\beta(H_0)}$$,\n",
    "\n",
    "where \n",
    "\n",
    "$$p(H_0|x)\\propto \\frac{p(H_0)}{\\beta(H_0)} \\int_{z,m_{1,s},m_{2,s}} p(x|z,m_{1,s},m_{2,s},H_0) p(m_{1,s},m_{2,s}) p(z) \\, dz dm_{1,s} dm_{2,s}$$\n",
    "\n",
    "where \n",
    "\n",
    "* $p(x|z,m_{1,s},m_{2,s},H_0)$ is the GW likelihood expressed in terms of redshift, source-frame masses and Hubble constant\n",
    "* $ p(z)$ and $p(m_{1,s},m_{2,s})$ are the redshift and masses priors that we assume in our analysis. Note that these priors should match with the population you are looking at, otherwise, due to selection bias, you will get a wrong result on $H_0$.\n",
    "* $\\beta(H_0)$ is a term that takes into account selection biases.\n",
    "\n",
    "\n",
    "\n",
    "\n"
   ]
  },
  {
   "cell_type": "markdown",
   "metadata": {},
   "source": [
    "### The selection effect\n",
    "\n",
    "Let us start by looking at the $\\beta(H_0)$ factor. This term is usually not present in classical Bayesian analysis and it represent a normalization factor with respect to a value of $H_0$.\n",
    "\n",
    "This factor here should be included because this kind of analysis is prone to a **selection bias**, i.e. for some values of $H_0$ GW events are easier to detect. The selection effect can be calulated as\n",
    "\n",
    "$$ \\beta(H_0) = \\int p_{\\rm det}(z,H_0) p(z) \\, dz$$,\n",
    "\n",
    "in GWcosmo we provide these ingredients\n"
   ]
  },
  {
   "cell_type": "code",
   "execution_count": 1,
   "metadata": {},
   "outputs": [
    {
     "name": "stderr",
     "output_type": "stream",
     "text": [
      "15:47 bilby INFO    : Running bilby version: 0.5.2:\n"
     ]
    }
   ],
   "source": [
    "import gwcosmo\n",
    "import pkg_resources\n",
    "import pickle\n"
   ]
  },
  {
   "cell_type": "code",
   "execution_count": 3,
   "metadata": {},
   "outputs": [
    {
     "name": "stdout",
     "output_type": "stream",
     "text": [
      "/home/masterjohn/anaconda3/envs/gdrgwcosmo/lib/python3.6/site-packages/gwcosmo-0.1.0-py3.6.egg/gwcosmo/data/\n"
     ]
    }
   ],
   "source": [
    "data_path = pkg_resources.resource_filename('gwcosmo', 'data/')\n",
    "print(data_path)"
   ]
  },
  {
   "cell_type": "code",
   "execution_count": 8,
   "metadata": {},
   "outputs": [
    {
     "ename": "TypeError",
     "evalue": "Required argument 'file' (pos 1) not found",
     "output_type": "error",
     "traceback": [
      "\u001b[0;31m---------------------------------------------------------------------------\u001b[0m",
      "\u001b[0;31mTypeError\u001b[0m                                 Traceback (most recent call last)",
      "\u001b[0;32m<ipython-input-8-f525d230ca0b>\u001b[0m in \u001b[0;36m<module>\u001b[0;34m\u001b[0m\n\u001b[1;32m      1\u001b[0m \u001b[0mdata_path\u001b[0m \u001b[0;34m=\u001b[0m \u001b[0mpkg_resources\u001b[0m\u001b[0;34m.\u001b[0m\u001b[0mresource_filename\u001b[0m\u001b[0;34m(\u001b[0m\u001b[0;34m'gwcosmo'\u001b[0m\u001b[0;34m,\u001b[0m \u001b[0;34m'data/'\u001b[0m\u001b[0;34m)\u001b[0m\u001b[0;34m\u001b[0m\u001b[0;34m\u001b[0m\u001b[0m\n\u001b[1;32m      2\u001b[0m \u001b[0;34m\u001b[0m\u001b[0m\n\u001b[0;32m----> 3\u001b[0;31m \u001b[0mdetection_probability\u001b[0m \u001b[0;34m=\u001b[0m \u001b[0mpickle\u001b[0m\u001b[0;34m.\u001b[0m\u001b[0mload\u001b[0m\u001b[0;34m(\u001b[0m\u001b[0;34m)\u001b[0m\u001b[0;34m\u001b[0m\u001b[0;34m\u001b[0m\u001b[0m\n\u001b[0m",
      "\u001b[0;31mTypeError\u001b[0m: Required argument 'file' (pos 1) not found"
     ]
    }
   ],
   "source": [
    "psd = 'O2'\n",
    "mmin = 1\n",
    "mmax = 3\n",
    "mass_distribution = 'BNS-uniform'\n",
    "\n",
    "\n",
    "\n",
    "\n",
    "detection_probability = pickle.load()"
   ]
  },
  {
   "cell_type": "code",
   "execution_count": null,
   "metadata": {},
   "outputs": [],
   "source": [
    "pdet_path = data_path + '{}PSD_{}_alpha_{}_Mmin_{}_Mmax_{}_Nsamps{}_{}_snr_{}.p'.format(\n",
    "    psd, mass_distribution, alpha, mmin, mmax, Nsamps, kind,network_snr_threshold)"
   ]
  },
  {
   "cell_type": "code",
   "execution_count": 13,
   "metadata": {},
   "outputs": [
    {
     "data": {
      "text/plain": [
       "'data/'"
      ]
     },
     "execution_count": 13,
     "metadata": {},
     "output_type": "execute_result"
    }
   ],
   "source": [
    "data_path"
   ]
  },
  {
   "cell_type": "code",
   "execution_count": null,
   "metadata": {},
   "outputs": [],
   "source": []
  },
  {
   "cell_type": "code",
   "execution_count": null,
   "metadata": {},
   "outputs": [],
   "source": []
  },
  {
   "cell_type": "code",
   "execution_count": null,
   "metadata": {},
   "outputs": [],
   "source": []
  }
 ],
 "metadata": {
  "kernelspec": {
   "display_name": "Python 3",
   "language": "python",
   "name": "python3"
  },
  "language_info": {
   "codemirror_mode": {
    "name": "ipython",
    "version": 3
   },
   "file_extension": ".py",
   "mimetype": "text/x-python",
   "name": "python",
   "nbconvert_exporter": "python",
   "pygments_lexer": "ipython3",
   "version": "3.6.11"
  }
 },
 "nbformat": 4,
 "nbformat_minor": 2
}
